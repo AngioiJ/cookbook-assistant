{
 "cells": [
  {
   "cell_type": "markdown",
   "metadata": {},
   "source": [
    "# Named Entity Recognition\n",
    "1. Preprocess and clean the extracted recipes further\n",
    "    - Fix any typos in the recipes using `SymSpell`.\n",
    "    - Perform Named Entity Recognition (NER) to extract ingredients and techniques used.\n",
    "    - Analyze recipes and their length, if they're often very long then chunk recipe instructions.\n",
    "\n",
    "2. Implement NER on user queries to improve retrieval via filtering.\n"
   ]
  },
  {
   "cell_type": "code",
   "execution_count": null,
   "metadata": {
    "vscode": {
     "languageId": "plaintext"
    }
   },
   "outputs": [],
   "source": [
    "# load the stored recipe jsons"
   ]
  },
  {
   "cell_type": "code",
   "execution_count": null,
   "metadata": {
    "vscode": {
     "languageId": "plaintext"
    }
   },
   "outputs": [],
   "source": [
    "# simple method to clean the recipes via SymSpell\n",
    "from symspellpy.symspellpy import SymSpell, Verbosity\n",
    "import re\n",
    "\n",
    "# Initialize SymSpell object\n",
    "sym_spell = SymSpell(max_dictionary_edit_distance=2, prefix_length=7)\n",
    "sym_spell.load_dictionary(\"custom_recipe_dict.txt\", term_index=0, count_index=1)\n",
    "\n",
    "def clean_and_correct(text):\n",
    "    words = re.findall(r\"\\w+|\\W+\", text)  # Keep punctuation\n",
    "    corrected = []\n",
    "    for word in words:\n",
    "        if re.match(r\"\\w+\", word):  # Only correct word-like tokens\n",
    "            suggestions = sym_spell.lookup(word, Verbosity.CLOSEST, max_edit_distance=2)\n",
    "            corrected_word = suggestions[0].term if suggestions else word\n",
    "            corrected.append(corrected_word)\n",
    "        else:\n",
    "            corrected.append(word)\n",
    "    return ''.join(corrected)\n",
    "\n",
    "# example use\n",
    "text = \"Add 1 cup of consomm^ to the roux.\"\n",
    "fixed = clean_and_correct(text)\n",
    "print(fixed)\n"
   ]
  }
 ],
 "metadata": {
  "language_info": {
   "name": "python"
  }
 },
 "nbformat": 4,
 "nbformat_minor": 2
}
