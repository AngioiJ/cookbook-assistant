{
 "cells": [
  {
   "cell_type": "markdown",
   "metadata": {},
   "source": [
    "# Named Entity Recognition\n",
    "To further improve the\n",
    "1. Preprocess and clean the extracted recipes further\n",
    "    - Fix any typos in the recipes\n",
    "    - Perform Named Entity Recognition (NER) extract ingredients and techniques used.\n",
    "    - Analyze recipes and their length, if they're often very long then chunk recipe instructions.\n",
    "\n",
    "2. Implement NER on user queries to improve retrieval via filtering.\n"
   ]
  },
  {
   "cell_type": "code",
   "execution_count": null,
   "metadata": {
    "vscode": {
     "languageId": "plaintext"
    }
   },
   "outputs": [],
   "source": [
    "# load the stored recipe jsons"
   ]
  }
 ],
 "metadata": {
  "language_info": {
   "name": "python"
  }
 },
 "nbformat": 4,
 "nbformat_minor": 2
}
