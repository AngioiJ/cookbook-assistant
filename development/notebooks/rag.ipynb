{
 "cells": [
  {
   "cell_type": "markdown",
   "metadata": {},
   "source": [
    "# Computing Embeddings of Recipes"
   ]
  },
  {
   "cell_type": "markdown",
   "metadata": {},
   "source": [
    "Using the Ollama embedding tutorial here: https://ollama.com/blog/embedding-models\n",
    "Note: Requires ChromaDB version 0.5.3 due to later versions crashing. "
   ]
  },
  {
   "cell_type": "code",
   "execution_count": null,
   "metadata": {},
   "outputs": [],
   "source": [
    "import json\n",
    "import os \n",
    "import ollama\n",
    "import chromadb"
   ]
  },
  {
   "cell_type": "code",
   "execution_count": 2,
   "metadata": {},
   "outputs": [],
   "source": [
    "# load the recipe JSONs as `documents`\n",
    "json_recipe_files = [f for f in os.listdir(\"json_chapters\")]\n",
    "json_recipe_files = [os.path.join(\"json_chapters\",file) for file in json_recipe_files]\n",
    "documents = []\n",
    "ids =[]\n",
    "\n",
    "for file in json_recipe_files:\n",
    "    with open(file, \"r\") as f:\n",
    "        data = json.load(f)\n",
    "\n",
    "        for recipe in data:\n",
    "            text = f\"Title: {recipe['title']} \\n Instructions: {recipe['instructions']}\"\n",
    "            documents.append(text)\n",
    "            ids.append(recipe['recipe_id'])\n"
   ]
  },
  {
   "cell_type": "code",
   "execution_count": null,
   "metadata": {},
   "outputs": [],
   "source": [
    "client = chromadb.PersistentClient(path=\"./chroma_db\")\n",
    "collection = client.get_or_create_collection(name=\"recipes\")\n",
    "\n",
    "# store each document in a vector embedding database\n",
    "i = 0\n",
    "for recipe_id, recipe in zip(ids, documents):\n",
    "  if i % 100 == 0:\n",
    "    print(f\"Embedding recipe: {i+1}.\")\n",
    "  response = ollama.embed(model=\"mxbai-embed-large:latest\", input=recipe)\n",
    "  embeddings = response[\"embeddings\"]\n",
    "  # break\n",
    "  collection.add(\n",
    "    ids=[str(recipe_id)],  # use the recipe ID from the JSON instead\n",
    "    embeddings=embeddings[0],\n",
    "    documents=[recipe]\n",
    "    # can add recipe metadata here such as ingredients and the chapter title\n",
    "  )\n",
    "  i += 1"
   ]
  },
  {
   "cell_type": "markdown",
   "metadata": {},
   "source": [
    "# Testing the Recipe Retrieval "
   ]
  },
  {
   "cell_type": "code",
   "execution_count": 20,
   "metadata": {},
   "outputs": [
    {
     "name": "stdout",
     "output_type": "stream",
     "text": [
      "<class 'ollama._types.EmbedResponse'>\n"
     ]
    }
   ],
   "source": [
    "# an example input\n",
    "input = \"What should I cook with thyme and basil?\"\n",
    "\n",
    "# generate an embedding for the input and retrieve the most relevant doc\n",
    "response = ollama.embed(\n",
    "  model=\"mxbai-embed-large\",\n",
    "  input=input\n",
    ")\n",
    "print(type(response))\n",
    "results = collection.query(\n",
    "  query_embeddings=[response[\"embeddings\"][0]],\n",
    "  n_results=3\n",
    ")\n",
    "data = results['documents'][0]\n",
    "formatted_data = \"\\n\\n\".join([f\"Document {i+1}: {doc}\" for i, doc in enumerate(data)])\n"
   ]
  },
  {
   "cell_type": "code",
   "execution_count": null,
   "metadata": {},
   "outputs": [
    {
     "name": "stdout",
     "output_type": "stream",
     "text": [
      "What a delightful collection of recipes!\n",
      "\n",
      "After reviewing these documents, I notice that none of them explicitly mention thyme and basil. However, I can suggest some ideas on what you could cook with these herbs based on the cooking styles and ingredients used in these recipes.\n",
      "\n",
      "**Thyme:**\n",
      "Thyme is often paired with vegetables like tomatoes (as seen in Documents 2 and 3). You could try adding fresh thyme leaves to your Tomato Farcies à la Provençale recipe (Document 2) or Tomates Sautéés à la Provençale (Document 3). The earthy flavor of thyme would complement the sweetness of the tomatoes nicely.\n",
      "\n",
      "Alternatively, you could use thyme in a vegetable-marrow flower omelet, similar to Document 1. Simply add chopped fresh thyme to the eggs along with the vegetable-marrow flowers and parsley for added depth of flavor.\n",
      "\n",
      "**Basil:**\n",
      "Basil is commonly associated with Mediterranean cuisine, which aligns well with the Provençale recipes in Documents 2 and 3. You could try adding fresh basil leaves to your Tomato Farcies à la Provençale or Tomates Sautéés à la Provençale recipes for a bright, herbaceous flavor.\n",
      "\n",
      "If you'd like to create a new recipe featuring thyme and basil, you could consider making a vegetable-marrow flower frittata with a basil-thyme sauce. Simply add chopped fresh thyme and basil to the eggs along with the vegetable-marrow flowers and parsley, then serve the omelet with a side of tomato sauce (similar to Document 1) or a creamy basil-thyme sauce.\n",
      "\n",
      "These are just a few ideas to get you started. Feel free to experiment and come up with your own creations inspired by these recipes!\n"
     ]
    }
   ],
   "source": [
    "# generate a response combining the prompt and data we retrieved in step 2\n",
    "output = ollama.generate(\n",
    "  model=\"llama3\",\n",
    "  prompt=f\"Using these recipes: {formatted_data}. Respond to this prompt using one or some of the techniques contained: {input}\"\n",
    ")\n",
    "\n",
    "print(output['response'])"
   ]
  },
  {
   "cell_type": "code",
   "execution_count": null,
   "metadata": {},
   "outputs": [],
   "source": []
  }
 ],
 "metadata": {
  "kernelspec": {
   "display_name": "base",
   "language": "python",
   "name": "python3"
  },
  "language_info": {
   "codemirror_mode": {
    "name": "ipython",
    "version": 3
   },
   "file_extension": ".py",
   "mimetype": "text/x-python",
   "name": "python",
   "nbconvert_exporter": "python",
   "pygments_lexer": "ipython3",
   "version": "3.9.16"
  }
 },
 "nbformat": 4,
 "nbformat_minor": 2
}
