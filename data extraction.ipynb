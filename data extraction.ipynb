{
 "cells": [
  {
   "cell_type": "markdown",
   "metadata": {},
   "source": [
    "### PDF Text Extraction"
   ]
  },
  {
   "cell_type": "code",
   "execution_count": 2,
   "metadata": {},
   "outputs": [],
   "source": [
    "import pymupdf"
   ]
  },
  {
   "cell_type": "code",
   "execution_count": 7,
   "metadata": {},
   "outputs": [
    {
     "name": "stdout",
     "output_type": "stream",
     "text": [
      "b'204  GUIDE  TO  MODERN  COOKERY \\n560\\xe2\\x80\\x94 CONSOMMjg  AUX  DIABLOTINS \\nCut  a  French  soup  \"  flute  \"  into  twelve  slices  one-quarter \\ninch  thick.  Reduce  about  one-quarter  pint  of  Bechamel  to  a \\nthick  consistence;  add  thereto,  away  from  the  fire,  two  heaped \\ntablespoonfuls  of  grated  Gruy^re  cheese,  and  season  with  a  little \\ncayenne. \\nGarnish  the  slices  of  soup  \"  flute  \"  with  this  preparation, \\narranged  in  the  form  of  a  dome,  upon  a  tray,  and  set  it  to \\nglaze  a  few  minutes  before  serving. \\nPour  one  quart  of  chicken  consomm^  into  the  soup-tureen, \\nand  add  the  diablotins. \\n561\\xe2\\x80\\x94 CONSOMME  DIPLOMATE \\nRoll  into  small  sausage-form  three  oz.  of  chicken  forcemeat, \\nfinished  with  crayfish  butter.  Poach  the  sausages,  cut  them \\ninto  thin  roundels,  and  put  them  into  the  soup-tureen  with  one \\ndessertspoonful  of  very  black  truffle,  cut  in  julienne-fashion. \\nPour  over  this  garnish  one  quart  of  boiling  chicken  con- \\nsomme, thickened  with  two  tablespoonfuls  of  poached  tapioca, \\nstrained  through  linen. \\n562\\xe2\\x80\\x94 CONSOMME  DIVETTE \\nPrepare  two  baba-inoulds  of  royale  made  from  crayfish \\nvelout^,  eighteen  small  quenelles  of  smelt  forcemeat,  moulded \\nto  the  shape  of  pearls,  and  one  tablespoonful  of  small  pearls \\nof  very  black  truffle. \\nCut  the  royale  into  oval  slices,  and  put  these  into  the  soup \\nwith  the  poached  quenelles  and  the  truffle  pearls. \\nPour  one  quart  of  very  clear,  boiling  consommd  over  the \\ngarnish. \\n563\\xe2\\x80\\x94 CONSOMME  DORIA \\nPrepare  the  following  garnish  : \\xe2\\x80\\x94 Thirty  pellets  of  cucumber \\nin  the  shape  of  large  pearls ;  eighteen  small  quenelles  of  chicken \\nforcemeat,  long  in  shape  and  grooved;  six  little  pellets,  about \\nthe  size  of  a  large  pea,  of  pate  a  choux,  combined  with  grated \\ncheese,  rolled  by  hand;  and  one  and  one-half  tablespoonfuls  of \\nJapanese  pearls,  poached  in  some  of  the  consomm^. \\nPut  the  cucumber  pellets,  cooked  in  consomme,  into  the \\nsoup-tureen ;  add  the  poached  quenelles  and  the  Japanese  pearls. \\nFour  minutes  before  serving,  plunge  the  pellets  of  fate  a \\nchotix  into  hot  fat,  keeping  them  crisp. \\n'\n"
     ]
    }
   ],
   "source": [
    "doc = pymupdf.open(\"a guide to modern cookery.pdf\")\n",
    "out = open(\"output.txt\", \"wb\")\n",
    "i = 0\n",
    "for page in doc:\n",
    "    i += 1\n",
    "    if i > 200:\n",
    "        text = page.get_text().encode(\"utf8\")\n",
    "        out.write(text)\n",
    "    if i == 20:\n",
    "        print(text)\n",
    "    if i == 230:\n",
    "        break \n",
    "out.close()"
   ]
  },
  {
   "cell_type": "markdown",
   "metadata": {},
   "source": [
    "Fantastic, the data seems to be well extracted and follow a consistent structure. Recipe titles are in all caps followed by instructions. "
   ]
  },
  {
   "cell_type": "code",
   "execution_count": null,
   "metadata": {},
   "outputs": [],
   "source": []
  }
 ],
 "metadata": {
  "kernelspec": {
   "display_name": "base",
   "language": "python",
   "name": "python3"
  },
  "language_info": {
   "codemirror_mode": {
    "name": "ipython",
    "version": 3
   },
   "file_extension": ".py",
   "mimetype": "text/x-python",
   "name": "python",
   "nbconvert_exporter": "python",
   "pygments_lexer": "ipython3",
   "version": "3.9.16"
  }
 },
 "nbformat": 4,
 "nbformat_minor": 2
}
