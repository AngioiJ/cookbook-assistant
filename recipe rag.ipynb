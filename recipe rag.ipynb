{
 "cells": [
  {
   "cell_type": "markdown",
   "metadata": {},
   "source": [
    "# Computing Embeddings of Recipes"
   ]
  },
  {
   "cell_type": "markdown",
   "metadata": {},
   "source": [
    "Using the Ollama embedding tutorial here: https://ollama.com/blog/embedding-models"
   ]
  },
  {
   "cell_type": "code",
   "execution_count": 1,
   "metadata": {},
   "outputs": [],
   "source": [
    "import json\n",
    "import os \n",
    "import ollama\n",
    "import chromadb"
   ]
  },
  {
   "cell_type": "code",
   "execution_count": 2,
   "metadata": {},
   "outputs": [],
   "source": [
    "# load the recipe JSONs as `documents`\n",
    "json_recipe_files = [f for f in os.listdir(\"json_chapters\")]\n",
    "json_recipe_files = [os.path.join(\"json_chapters\",file) for file in json_recipe_files]\n",
    "documents = []\n",
    "ids =[]\n",
    "\n",
    "for file in json_recipe_files:\n",
    "    with open(file, \"r\") as f:\n",
    "        data = json.load(f)\n",
    "\n",
    "        for recipe in data:\n",
    "            text = f\"Title: {recipe['title']} \\n Instructions: {recipe['instructions']}\"\n",
    "            documents.append(text)\n",
    "            ids.append(recipe['recipe_id'])\n"
   ]
  },
  {
   "cell_type": "code",
   "execution_count": 3,
   "metadata": {},
   "outputs": [
    {
     "name": "stdout",
     "output_type": "stream",
     "text": [
      "Computing recipe number: 280.\n",
      "Computing recipe number: 281.\n",
      "Computing recipe number: 282.\n",
      "Computing recipe number: 283.\n",
      "Computing recipe number: 284.\n",
      "Computing recipe number: 285.\n",
      "Computing recipe number: 287.\n",
      "Computing recipe number: 288.\n",
      "Computing recipe number: 289.\n",
      "Computing recipe number: 290.\n",
      "Computing recipe number: 291.\n",
      "Computing recipe number: 292.\n",
      "Computing recipe number: 293.\n",
      "Computing recipe number: 294.\n",
      "Computing recipe number: 295.\n",
      "Computing recipe number: 296.\n",
      "Computing recipe number: 297.\n",
      "Computing recipe number: 298.\n",
      "Computing recipe number: 299.\n",
      "Computing recipe number: 299a.\n",
      "Computing recipe number: 300.\n",
      "Computing recipe number: 301.\n",
      "Computing recipe number: 302.\n",
      "Computing recipe number: 303.\n",
      "Computing recipe number: 304.\n",
      "Computing recipe number: 305.\n",
      "Computing recipe number: 306.\n",
      "Computing recipe number: 307.\n",
      "Computing recipe number: 308.\n",
      "Computing recipe number: 309.\n",
      "Computing recipe number: 310.\n",
      "Computing recipe number: 311.\n",
      "Computing recipe number: 312.\n",
      "Computing recipe number: 314.\n",
      "Computing recipe number: 31S.\n",
      "Computing recipe number: 316.\n",
      "Computing recipe number: 317.\n",
      "Computing recipe number: 318.\n",
      "Computing recipe number: 319.\n",
      "Computing recipe number: 320.\n",
      "Computing recipe number: 321.\n",
      "Computing recipe number: 322.\n",
      "Computing recipe number: 323.\n",
      "Computing recipe number: 324.\n",
      "Computing recipe number: 335.\n",
      "Computing recipe number: 336.\n",
      "Computing recipe number: 337.\n",
      "Computing recipe number: 328.\n",
      "Computing recipe number: 329.\n",
      "Computing recipe number: 329a.\n",
      "Computing recipe number: 329b.\n",
      "Computing recipe number: 329c.\n",
      "Computing recipe number: 329d.\n",
      "Computing recipe number: 330.\n",
      "Computing recipe number: 331.\n",
      "Computing recipe number: 332.\n",
      "Computing recipe number: 333.\n"
     ]
    },
    {
     "name": "stderr",
     "output_type": "stream",
     "text": [
      "Add of existing embedding ID: 335\n",
      "Insert of existing embedding ID: 335\n",
      "Add of existing embedding ID: 336\n",
      "Insert of existing embedding ID: 336\n",
      "Add of existing embedding ID: 337\n"
     ]
    },
    {
     "name": "stdout",
     "output_type": "stream",
     "text": [
      "Computing recipe number: 334.\n",
      "Computing recipe number: 335.\n",
      "Computing recipe number: 336.\n",
      "Computing recipe number: 337.\n"
     ]
    },
    {
     "name": "stderr",
     "output_type": "stream",
     "text": [
      "Insert of existing embedding ID: 337\n"
     ]
    },
    {
     "name": "stdout",
     "output_type": "stream",
     "text": [
      "Computing recipe number: 338.\n",
      "Computing recipe number: 339.\n",
      "Computing recipe number: 340.\n",
      "Computing recipe number: 341.\n",
      "Computing recipe number: 343.\n",
      "Computing recipe number: 344.\n",
      "Computing recipe number: 345.\n",
      "Computing recipe number: 346.\n",
      "Computing recipe number: 347.\n",
      "Computing recipe number: 348.\n",
      "Computing recipe number: 349.\n",
      "Computing recipe number: 350.\n",
      "Computing recipe number: 352.\n",
      "Computing recipe number: 353.\n",
      "Computing recipe number: 354.\n",
      "Computing recipe number: 355.\n",
      "Computing recipe number: 356.\n",
      "Computing recipe number: 357.\n",
      "Computing recipe number: 358.\n",
      "Computing recipe number: 359.\n",
      "Computing recipe number: 360.\n",
      "Computing recipe number: 361.\n",
      "Computing recipe number: 362.\n",
      "Computing recipe number: 363.\n",
      "Computing recipe number: 364.\n",
      "Computing recipe number: 365.\n",
      "Computing recipe number: 366.\n",
      "Computing recipe number: 367.\n",
      "Computing recipe number: 368.\n",
      "Computing recipe number: 369.\n",
      "Computing recipe number: 370.\n",
      "Computing recipe number: 371.\n",
      "Computing recipe number: 372.\n",
      "Computing recipe number: 373.\n",
      "Computing recipe number: 374.\n",
      "Computing recipe number: 375.\n"
     ]
    },
    {
     "ename": "",
     "evalue": "",
     "output_type": "error",
     "traceback": [
      "\u001b[1;31mThe Kernel crashed while executing code in the current cell or a previous cell. \n",
      "\u001b[1;31mPlease review the code in the cell(s) to identify a possible cause of the failure. \n",
      "\u001b[1;31mClick <a href='https://aka.ms/vscodeJupyterKernelCrash'>here</a> for more info. \n",
      "\u001b[1;31mView Jupyter <a href='command:jupyter.viewOutput'>log</a> for further details."
     ]
    }
   ],
   "source": [
    "client = chromadb.PersistentClient(path=\"./chroma_db\")\n",
    "collection = client.create_collection(name=\"recipes\")\n",
    "\n",
    "\n",
    "# store each document in a vector embedding database\n",
    "for recipe_id, recipe in zip(ids, documents):\n",
    "  print(f\"Computing recipe number: {recipe_id}.\")\n",
    "  response = ollama.embed(model=\"mxbai-embed-large\", input=recipe)\n",
    "  embeddings = response[\"embeddings\"]\n",
    "  # break\n",
    "  collection.add(\n",
    "    ids=[str(recipe_id)],  # use the recipe ID from the JSON instead\n",
    "    embeddings=embeddings[0],\n",
    "    documents=[recipe]\n",
    "    # can add recipe metadata here such as ingredients and the chapter title\n",
    "  )"
   ]
  },
  {
   "cell_type": "code",
   "execution_count": null,
   "metadata": {},
   "outputs": [],
   "source": [
    "# test retrieval"
   ]
  }
 ],
 "metadata": {
  "kernelspec": {
   "display_name": "base",
   "language": "python",
   "name": "python3"
  },
  "language_info": {
   "codemirror_mode": {
    "name": "ipython",
    "version": 3
   },
   "file_extension": ".py",
   "mimetype": "text/x-python",
   "name": "python",
   "nbconvert_exporter": "python",
   "pygments_lexer": "ipython3",
   "version": "3.9.16"
  }
 },
 "nbformat": 4,
 "nbformat_minor": 2
}
