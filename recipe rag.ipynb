{
 "cells": [
  {
   "cell_type": "markdown",
   "metadata": {},
   "source": [
    "# Computing Embeddings of Recipes"
   ]
  },
  {
   "cell_type": "markdown",
   "metadata": {},
   "source": [
    "Using the Ollama embedding tutorial here: https://ollama.com/blog/embedding-models"
   ]
  },
  {
   "cell_type": "code",
   "execution_count": 1,
   "metadata": {},
   "outputs": [],
   "source": [
    "import json\n",
    "import os \n",
    "import ollama\n",
    "import chromadb"
   ]
  },
  {
   "cell_type": "code",
   "execution_count": null,
   "metadata": {},
   "outputs": [
    {
     "name": "stdout",
     "output_type": "stream",
     "text": [
      "['COLD  SAUCES  AND  COMPOUND  BUTTERS        .json', 'EGGS  .json', 'FISH  .json', 'FONDS  DE  CUISINE  .json', 'ROASTS  AND  SALADS         .json', 'SAVOURY  JELLIES  OR  ASPICS  .json', 'SOUPS  .json', 'THE   SMALL  COMPOUND   SAUCES  .json', 'THE  COURT-BOUILLONS  AND  THE  MARINADES  .json', 'THE  LEADING  WARM   SAUCES     .json', 'THE  VARIOUS  GARNISHES   FOR  SOUPS  .json']\n"
     ]
    }
   ],
   "source": [
    "# load the recipe JSONs as `documents`\n",
    "json_recipe_files = [f for f in os.listdir(\"json_chapters\")]\n",
    "\n",
    "documents = []\n",
    "ids =[]\n",
    "\n",
    "for file in json_recipe_files:\n",
    "    with open(file, \"r\") as f:\n",
    "        data = json.load(f)\n",
    "\n",
    "        for recipe in data:\n",
    "            text = f\"Title: {recipe['title']} \\n Instructions: {recipe['instructions']}\"\n",
    "            documents.append(text)\n",
    "            ids.append(recipe['recipe_id'])\n"
   ]
  },
  {
   "cell_type": "code",
   "execution_count": null,
   "metadata": {},
   "outputs": [],
   "source": [
    "client = chromadb.Client()\n",
    "collection = client.create_collection(name=\"docs\")\n",
    "\n",
    "# store each document in a vector embedding database\n",
    "for i, d in enumerate(documents):\n",
    "  response = ollama.embed(model=\"large-en-v1.5-f16\", input=d)\n",
    "  embeddings = response[\"embeddings\"]\n",
    "  collection.add(\n",
    "    ids=[str(i)],  # use the recipe ID from the JSON instead\n",
    "    embeddings=embeddings,\n",
    "    documents=[d]\n",
    "  )"
   ]
  },
  {
   "cell_type": "code",
   "execution_count": null,
   "metadata": {},
   "outputs": [],
   "source": [
    "# test retrieval"
   ]
  }
 ],
 "metadata": {
  "kernelspec": {
   "display_name": "base",
   "language": "python",
   "name": "python3"
  },
  "language_info": {
   "codemirror_mode": {
    "name": "ipython",
    "version": 3
   },
   "file_extension": ".py",
   "mimetype": "text/x-python",
   "name": "python",
   "nbconvert_exporter": "python",
   "pygments_lexer": "ipython3",
   "version": "3.9.16"
  }
 },
 "nbformat": 4,
 "nbformat_minor": 2
}
