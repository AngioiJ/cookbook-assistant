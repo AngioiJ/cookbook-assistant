{
 "cells": [
  {
   "cell_type": "markdown",
   "metadata": {},
   "source": [
    "# Computing Embeddings of Recipes"
   ]
  },
  {
   "cell_type": "markdown",
   "metadata": {},
   "source": [
    "Using the Ollama embedding tutorial here: https://ollama.com/blog/embedding-models\n",
    "Note: Requires ChromaDB version 0.5.3 due to later versions crashing. "
   ]
  },
  {
   "cell_type": "code",
   "execution_count": 1,
   "metadata": {},
   "outputs": [],
   "source": [
    "import json\n",
    "import os \n",
    "import ollama\n",
    "import chromadb\n",
    "import gc"
   ]
  },
  {
   "cell_type": "code",
   "execution_count": 2,
   "metadata": {},
   "outputs": [],
   "source": [
    "# load the recipe JSONs as `documents`\n",
    "json_recipe_files = [f for f in os.listdir(\"json_chapters\")]\n",
    "json_recipe_files = [os.path.join(\"json_chapters\",file) for file in json_recipe_files]\n",
    "documents = []\n",
    "ids =[]\n",
    "\n",
    "for file in json_recipe_files:\n",
    "    with open(file, \"r\") as f:\n",
    "        data = json.load(f)\n",
    "\n",
    "        for recipe in data:\n",
    "            text = f\"Title: {recipe['title']} \\n Instructions: {recipe['instructions']}\"\n",
    "            documents.append(text)\n",
    "            ids.append(recipe['recipe_id'])\n"
   ]
  },
  {
   "cell_type": "code",
   "execution_count": 3,
   "metadata": {},
   "outputs": [
    {
     "name": "stdout",
     "output_type": "stream",
     "text": [
      "Embedding recipe: 1.\n"
     ]
    },
    {
     "name": "stderr",
     "output_type": "stream",
     "text": [
      "Add of existing embedding ID: 127\n",
      "Insert of existing embedding ID: 127\n",
      "Add of existing embedding ID: 138\n",
      "Insert of existing embedding ID: 138\n",
      "Add of existing embedding ID: 129\n",
      "Insert of existing embedding ID: 129\n",
      "Add of existing embedding ID: 130\n",
      "Insert of existing embedding ID: 130\n",
      "Add of existing embedding ID: 131\n",
      "Insert of existing embedding ID: 131\n",
      "Add of existing embedding ID: 132\n",
      "Insert of existing embedding ID: 132\n",
      "Add of existing embedding ID: 133\n",
      "Insert of existing embedding ID: 133\n",
      "Add of existing embedding ID: 134\n",
      "Insert of existing embedding ID: 134\n",
      "Add of existing embedding ID: 136\n",
      "Insert of existing embedding ID: 136\n",
      "Add of existing embedding ID: 137\n",
      "Insert of existing embedding ID: 137\n",
      "Add of existing embedding ID: 138\n",
      "Insert of existing embedding ID: 138\n"
     ]
    },
    {
     "name": "stdout",
     "output_type": "stream",
     "text": [
      "Embedding recipe: 101.\n"
     ]
    },
    {
     "name": "stderr",
     "output_type": "stream",
     "text": [
      "Add of existing embedding ID: 2373\n",
      "Insert of existing embedding ID: 2373\n",
      "Add of existing embedding ID: 2396\n",
      "Insert of existing embedding ID: 2396\n"
     ]
    },
    {
     "name": "stdout",
     "output_type": "stream",
     "text": [
      "Embedding recipe: 201.\n"
     ]
    },
    {
     "name": "stderr",
     "output_type": "stream",
     "text": [
      "Add of existing embedding ID: 2433\n",
      "Insert of existing embedding ID: 2433\n",
      "Add of existing embedding ID: 2433\n",
      "Insert of existing embedding ID: 2433\n",
      "Add of existing embedding ID: 2434\n",
      "Insert of existing embedding ID: 2434\n",
      "Add of existing embedding ID: 2400\n",
      "Insert of existing embedding ID: 2400\n"
     ]
    },
    {
     "name": "stdout",
     "output_type": "stream",
     "text": [
      "Embedding recipe: 301.\n"
     ]
    },
    {
     "name": "stderr",
     "output_type": "stream",
     "text": [
      "Add of existing embedding ID: 2563\n",
      "Insert of existing embedding ID: 2563\n"
     ]
    },
    {
     "name": "stdout",
     "output_type": "stream",
     "text": [
      "Embedding recipe: 401.\n",
      "Embedding recipe: 501.\n"
     ]
    },
    {
     "name": "stderr",
     "output_type": "stream",
     "text": [
      "Add of existing embedding ID: 831\n",
      "Insert of existing embedding ID: 831\n",
      "Add of existing embedding ID: 833\n",
      "Insert of existing embedding ID: 833\n"
     ]
    },
    {
     "name": "stdout",
     "output_type": "stream",
     "text": [
      "Embedding recipe: 601.\n"
     ]
    },
    {
     "name": "stderr",
     "output_type": "stream",
     "text": [
      "Add of existing embedding ID: 873\n",
      "Insert of existing embedding ID: 873\n",
      "Add of existing embedding ID: 913\n",
      "Insert of existing embedding ID: 913\n",
      "Add of existing embedding ID: 933\n",
      "Insert of existing embedding ID: 933\n",
      "Add of existing embedding ID: 934\n",
      "Insert of existing embedding ID: 934\n",
      "Add of existing embedding ID: 939\n",
      "Insert of existing embedding ID: 939\n"
     ]
    },
    {
     "name": "stdout",
     "output_type": "stream",
     "text": [
      "Embedding recipe: 701.\n",
      "Embedding recipe: 801.\n"
     ]
    },
    {
     "name": "stderr",
     "output_type": "stream",
     "text": [
      "Add of existing embedding ID: 333\n",
      "Insert of existing embedding ID: 333\n",
      "Add of existing embedding ID: 335\n",
      "Insert of existing embedding ID: 335\n",
      "Add of existing embedding ID: 336\n",
      "Insert of existing embedding ID: 336\n",
      "Add of existing embedding ID: 337\n",
      "Insert of existing embedding ID: 337\n"
     ]
    },
    {
     "name": "stdout",
     "output_type": "stream",
     "text": [
      "Embedding recipe: 901.\n"
     ]
    },
    {
     "name": "stderr",
     "output_type": "stream",
     "text": [
      "Add of existing embedding ID: 352\n",
      "Insert of existing embedding ID: 352\n"
     ]
    },
    {
     "name": "stdout",
     "output_type": "stream",
     "text": [
      "Embedding recipe: 1001.\n"
     ]
    },
    {
     "name": "stderr",
     "output_type": "stream",
     "text": [
      "Add of existing embedding ID: 2839\n",
      "Insert of existing embedding ID: 2839\n",
      "Add of existing embedding ID: 3873\n",
      "Insert of existing embedding ID: 3873\n"
     ]
    },
    {
     "name": "stdout",
     "output_type": "stream",
     "text": [
      "Embedding recipe: 1101.\n"
     ]
    },
    {
     "name": "stderr",
     "output_type": "stream",
     "text": [
      "Add of existing embedding ID: 2938\n",
      "Insert of existing embedding ID: 2938\n",
      "Add of existing embedding ID: 360\n",
      "Insert of existing embedding ID: 360\n",
      "Add of existing embedding ID: 377\n",
      "Insert of existing embedding ID: 377\n"
     ]
    },
    {
     "name": "stdout",
     "output_type": "stream",
     "text": [
      "Embedding recipe: 1201.\n",
      "Embedding recipe: 1301.\n"
     ]
    },
    {
     "name": "stderr",
     "output_type": "stream",
     "text": [
      "Add of existing embedding ID: 1320\n",
      "Insert of existing embedding ID: 1320\n",
      "Add of existing embedding ID: 1327\n",
      "Insert of existing embedding ID: 1327\n",
      "Add of existing embedding ID: 1342\n",
      "Insert of existing embedding ID: 1342\n",
      "Add of existing embedding ID: 1360\n",
      "Insert of existing embedding ID: 1360\n"
     ]
    },
    {
     "name": "stdout",
     "output_type": "stream",
     "text": [
      "Embedding recipe: 1401.\n",
      "Embedding recipe: 1501.\n"
     ]
    },
    {
     "name": "stderr",
     "output_type": "stream",
     "text": [
      "Add of existing embedding ID: 1473\n",
      "Insert of existing embedding ID: 1473\n",
      "Add of existing embedding ID: 1543\n",
      "Insert of existing embedding ID: 1543\n"
     ]
    },
    {
     "name": "stdout",
     "output_type": "stream",
     "text": [
      "Embedding recipe: 1601.\n"
     ]
    },
    {
     "name": "stderr",
     "output_type": "stream",
     "text": [
      "Add of existing embedding ID: 1636\n",
      "Insert of existing embedding ID: 1636\n"
     ]
    },
    {
     "name": "stdout",
     "output_type": "stream",
     "text": [
      "Embedding recipe: 1701.\n",
      "Embedding recipe: 1801.\n"
     ]
    },
    {
     "name": "stderr",
     "output_type": "stream",
     "text": [
      "Add of existing embedding ID: 1833\n",
      "Insert of existing embedding ID: 1833\n",
      "Add of existing embedding ID: 1834\n",
      "Insert of existing embedding ID: 1834\n"
     ]
    },
    {
     "name": "stdout",
     "output_type": "stream",
     "text": [
      "Embedding recipe: 1901.\n",
      "Embedding recipe: 2001.\n"
     ]
    },
    {
     "name": "stderr",
     "output_type": "stream",
     "text": [
      "Add of existing embedding ID: 543\n",
      "Insert of existing embedding ID: 543\n"
     ]
    },
    {
     "name": "stdout",
     "output_type": "stream",
     "text": [
      "Embedding recipe: 2101.\n"
     ]
    },
    {
     "name": "stderr",
     "output_type": "stream",
     "text": [
      "Add of existing embedding ID: 634\n",
      "Insert of existing embedding ID: 634\n"
     ]
    },
    {
     "name": "stdout",
     "output_type": "stream",
     "text": [
      "Embedding recipe: 2201.\n"
     ]
    },
    {
     "name": "stderr",
     "output_type": "stream",
     "text": [
      "Add of existing embedding ID: 733\n",
      "Insert of existing embedding ID: 733\n",
      "Add of existing embedding ID: 738\n",
      "Insert of existing embedding ID: 738\n",
      "Add of existing embedding ID: 63\n",
      "Insert of existing embedding ID: 63\n"
     ]
    },
    {
     "name": "stdout",
     "output_type": "stream",
     "text": [
      "Embedding recipe: 2301.\n",
      "Embedding recipe: 2401.\n"
     ]
    },
    {
     "name": "stderr",
     "output_type": "stream",
     "text": [
      "Add of existing embedding ID: 2123\n",
      "Insert of existing embedding ID: 2123\n"
     ]
    },
    {
     "name": "stdout",
     "output_type": "stream",
     "text": [
      "Embedding recipe: 2501.\n"
     ]
    },
    {
     "name": "stderr",
     "output_type": "stream",
     "text": [
      "Add of existing embedding ID: 2313\n",
      "Insert of existing embedding ID: 2313\n",
      "Add of existing embedding ID: 2317\n",
      "Insert of existing embedding ID: 2317\n"
     ]
    },
    {
     "name": "stdout",
     "output_type": "stream",
     "text": [
      "Embedding recipe: 2601.\n"
     ]
    },
    {
     "name": "stderr",
     "output_type": "stream",
     "text": [
      "Add of existing embedding ID: 2367\n",
      "Insert of existing embedding ID: 2367\n"
     ]
    }
   ],
   "source": [
    "client = chromadb.PersistentClient(path=\"./chroma_db\")\n",
    "collection = client.get_or_create_collection(name=\"recipes\")\n",
    "\n",
    "# store each document in a vector embedding database\n",
    "i = 0\n",
    "for recipe_id, recipe in zip(ids, documents):\n",
    "  if i % 100 == 0:\n",
    "    print(f\"Embedding recipe: {i+1}.\")\n",
    "  response = ollama.embed(model=\"mxbai-embed-large:latest\", input=recipe)\n",
    "  embeddings = response[\"embeddings\"]\n",
    "  # break\n",
    "  collection.add(\n",
    "    ids=[str(recipe_id)],  # use the recipe ID from the JSON instead\n",
    "    embeddings=embeddings[0],\n",
    "    documents=[recipe]\n",
    "    # can add recipe metadata here such as ingredients and the chapter title\n",
    "  )\n",
    "  i += 1"
   ]
  },
  {
   "cell_type": "code",
   "execution_count": 5,
   "metadata": {},
   "outputs": [],
   "source": [
    "# an example input\n",
    "input = \"How to make stock?\"\n",
    "\n",
    "# generate an embedding for the input and retrieve the most relevant doc\n",
    "response = ollama.embed(\n",
    "  model=\"mxbai-embed-large\",\n",
    "  input=input\n",
    ")\n",
    "results = collection.query(\n",
    "  query_embeddings=[response[\"embeddings\"][0]],\n",
    "  n_results=2\n",
    ")\n",
    "data = results['documents'][0][0]"
   ]
  },
  {
   "cell_type": "code",
   "execution_count": 7,
   "metadata": {},
   "outputs": [
    {
     "name": "stdout",
     "output_type": "stream",
     "text": [
      "Based on the provided data, here is a step-by-step guide on how to make ordinary aspic stock:\n",
      "\n",
      "**Materials needed:**\n",
      "\n",
      "* A very clean and well-tinned stockpot or stewpan\n",
      "* 4 lbs of strung knuckle of veal\n",
      "* 3 calf's feet, boned and blanched\n",
      "* 3 lbs of strung knuckle of beef\n",
      "* 1 lb of fresh pork rind, well cleaned and with fat removed\n",
      "* 3 lbs of veal bones, well broken and blanched\n",
      "* Cold water (approximately 8 quarts)\n",
      "* Salt (1 oz)\n",
      "\n",
      "**Mode of Procedure:**\n",
      "\n",
      "1. Put the meats (veal knuckle, calf's feet, beef knuckle, pork rind, and veal bones) in the prepared stockpot or stewpan.\n",
      "2. Add 8 quarts of cold water to the pot.\n",
      "3. Boil the mixture, then skim off any impurities that rise to the surface.\n",
      "4. Once the stock has been well-skimmed, add 1 oz of salt and stir it into the liquid.\n",
      "5. Allow the stock to simmer or cook on low heat for a period of time, ensuring that all the flavors are fully infused into the aspic.\n",
      "\n",
      "**Tips:**\n",
      "\n",
      "* Use a very clean pot to prevent any contamination or spoilage of the stock.\n",
      "* Ensure all meats are well-cleaned and blanched before using them in the stock.\n",
      "* Skimming the stock regularly is important to remove impurities and improve the overall clarity and flavor of the aspic.\n",
      "* Letting the stock simmer for an extended period can help extract more flavors from the ingredients, resulting in a richer and more complex taste.\n",
      "\n",
      "By following these steps and guidelines, you should be able to create a delicious and rich ordinary aspic stock. Enjoy!\n"
     ]
    }
   ],
   "source": [
    "# generate a response combining the prompt and data we retrieved in step 2\n",
    "output = ollama.generate(\n",
    "  model=\"llama3\",\n",
    "  prompt=f\"Using this data: {data}. Respond to this prompt: {input}\"\n",
    ")\n",
    "\n",
    "print(output['response'])"
   ]
  },
  {
   "cell_type": "code",
   "execution_count": null,
   "metadata": {},
   "outputs": [],
   "source": []
  }
 ],
 "metadata": {
  "kernelspec": {
   "display_name": "base",
   "language": "python",
   "name": "python3"
  },
  "language_info": {
   "codemirror_mode": {
    "name": "ipython",
    "version": 3
   },
   "file_extension": ".py",
   "mimetype": "text/x-python",
   "name": "python",
   "nbconvert_exporter": "python",
   "pygments_lexer": "ipython3",
   "version": "3.9.16"
  }
 },
 "nbformat": 4,
 "nbformat_minor": 2
}
