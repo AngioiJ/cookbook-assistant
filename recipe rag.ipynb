{
 "cells": [
  {
   "cell_type": "markdown",
   "metadata": {},
   "source": [
    "# Computing Embeddings of Recipes"
   ]
  },
  {
   "cell_type": "markdown",
   "metadata": {},
   "source": [
    "Using the Ollama embedding tutorial here: https://ollama.com/blog/embedding-models\n",
    "Note: Requires ChromaDB version 0.5.3 due to later versions crashing. "
   ]
  },
  {
   "cell_type": "code",
   "execution_count": 1,
   "metadata": {},
   "outputs": [],
   "source": [
    "import json\n",
    "import os \n",
    "import ollama\n",
    "import chromadb\n",
    "import gc"
   ]
  },
  {
   "cell_type": "code",
   "execution_count": 2,
   "metadata": {},
   "outputs": [],
   "source": [
    "# load the recipe JSONs as `documents`\n",
    "json_recipe_files = [f for f in os.listdir(\"json_chapters\")]\n",
    "json_recipe_files = [os.path.join(\"json_chapters\",file) for file in json_recipe_files]\n",
    "documents = []\n",
    "ids =[]\n",
    "\n",
    "for file in json_recipe_files:\n",
    "    with open(file, \"r\") as f:\n",
    "        data = json.load(f)\n",
    "\n",
    "        for recipe in data:\n",
    "            text = f\"Title: {recipe['title']} \\n Instructions: {recipe['instructions']}\"\n",
    "            documents.append(text)\n",
    "            ids.append(recipe['recipe_id'])\n"
   ]
  },
  {
   "cell_type": "code",
   "execution_count": null,
   "metadata": {},
   "outputs": [],
   "source": [
    "client = chromadb.PersistentClient(path=\"./chroma_db\")\n",
    "collection = client.get_or_create_collection(name=\"recipes\")\n",
    "\n",
    "# store each document in a vector embedding database\n",
    "i = 0\n",
    "for recipe_id, recipe in zip(ids, documents):\n",
    "  if i % 100 == 0:\n",
    "    print(f\"Embedding recipe: {i+1}.\")\n",
    "  response = ollama.embed(model=\"mxbai-embed-large:latest\", input=recipe)\n",
    "  embeddings = response[\"embeddings\"]\n",
    "  # break\n",
    "  collection.add(\n",
    "    ids=[str(recipe_id)],  # use the recipe ID from the JSON instead\n",
    "    embeddings=embeddings[0],\n",
    "    documents=[recipe]\n",
    "    # can add recipe metadata here such as ingredients and the chapter title\n",
    "  )\n",
    "  i += 1"
   ]
  },
  {
   "cell_type": "markdown",
   "metadata": {},
   "source": [
    "# Testing the Recipe Retrieval "
   ]
  },
  {
   "cell_type": "code",
   "execution_count": 8,
   "metadata": {},
   "outputs": [],
   "source": [
    "# an example input\n",
    "input = \"What should I cook with eggs for a garnish?\"\n",
    "\n",
    "# generate an embedding for the input and retrieve the most relevant doc\n",
    "response = ollama.embed(\n",
    "  model=\"mxbai-embed-large\",\n",
    "  input=input\n",
    ")\n",
    "results = collection.query(\n",
    "  query_embeddings=[response[\"embeddings\"][0]],\n",
    "  n_results=2\n",
    ")\n",
    "data = results['documents'][0][0]"
   ]
  },
  {
   "cell_type": "code",
   "execution_count": 9,
   "metadata": {},
   "outputs": [
    {
     "name": "stdout",
     "output_type": "stream",
     "text": [
      "A classic dish! According to the instructions, you should cook minced onions in butter until they're cooked through but not browned. This will be the perfect garnish for your dish.\n",
      "\n",
      "So, to summarize:\n",
      "\n",
      "* Cook minced onions in butter until they're tender and not browned.\n",
      "* Use these onions as a garnish on top of whatever main dish you've prepared.\n",
      "* Break eggs over the onion topping.\n",
      "* Sprinkle a small amount of grated Parrhesan cheese (a type of Parmesan) over the eggs.\n",
      "* Place the dish under a hot broiler or in a fierce oven until the eggs are cooked and a slight gratin forms on top.\n",
      "\n",
      "Enjoy your OMER-PACHA EQQS!\n"
     ]
    }
   ],
   "source": [
    "# generate a response combining the prompt and data we retrieved in step 2\n",
    "output = ollama.generate(\n",
    "  model=\"llama3\",\n",
    "  prompt=f\"Using this data: {data}. Respond to this prompt: {input}\"\n",
    ")\n",
    "\n",
    "print(output['response'])"
   ]
  },
  {
   "cell_type": "code",
   "execution_count": null,
   "metadata": {},
   "outputs": [],
   "source": []
  }
 ],
 "metadata": {
  "kernelspec": {
   "display_name": "base",
   "language": "python",
   "name": "python3"
  },
  "language_info": {
   "codemirror_mode": {
    "name": "ipython",
    "version": 3
   },
   "file_extension": ".py",
   "mimetype": "text/x-python",
   "name": "python",
   "nbconvert_exporter": "python",
   "pygments_lexer": "ipython3",
   "version": "3.9.16"
  }
 },
 "nbformat": 4,
 "nbformat_minor": 2
}
